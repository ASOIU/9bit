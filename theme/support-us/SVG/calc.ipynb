{
 "cells": [
  {
   "cell_type": "markdown",
   "metadata": {},
   "source": [
    "# Calc"
   ]
  },
  {
   "cell_type": "markdown",
   "metadata": {},
   "source": [
    "## Ссылки\n",
    "\n",
    "* [GitHub + Jupyter Notebooks = <3](https://github.com/blog/1995-github-jupyter-notebooks-3)\n",
    "* https://blog.jupyter.org/rendering-notebooks-on-github-f7ac8736d686\n",
    "* https://github.com/jupyter/notebook\n",
    "\n",
    "\n",
    "* [XKCD plots in Matplotlib](https://nbviewer.jupyter.org/url/jakevdp.github.com/downloads/notebooks/XKCD_plots.ipynb)\n",
    "  http://jakevdp.github.io/blog/2012/10/07/xkcd-style-plots-in-matplotlib/\n",
    "* [XKCD Plots have Landed in Matplotlib!](http://jakevdp.github.io/blog/2013/07/10/XKCD-plots-in-matplotlib/)\n",
    "* [Gallery](http://matplotlib.org/xkcd/gallery.html)\n",
    "  * [demo axisline style](http://matplotlib.org/xkcd/examples/axes_grid/demo_axisline_style.html)\n",
    "  * [AxisArtist](http://matplotlib.org/xkcd/mpl_toolkits/axes_grid/users/axisartist.html) (стрелки на _концах осей_)"
   ]
  },
  {
   "cell_type": "markdown",
   "metadata": {},
   "source": [
    "## Run some Python code!\n",
    "\n",
    "Created in https://try.jupyter.org\n",
    "\n",
    "To run the code below:\n",
    "\n",
    "1. Click on the cell to select it.\n",
    "2. Press `SHIFT+ENTER` on your keyboard or press the play button (<button class='fa fa-play icon-play btn btn-xs btn-default'></button>) in the toolbar above."
   ]
  },
  {
   "cell_type": "code",
   "execution_count": 8,
   "metadata": {},
   "outputs": [
    {
     "name": "stdout",
     "output_type": "stream",
     "text": [
      "Populating the interactive namespace from numpy and matplotlib\n"
     ]
    }
   ],
   "source": [
    "%pylab inline"
   ]
  },
  {
   "cell_type": "code",
   "execution_count": 84,
   "metadata": {},
   "outputs": [
    {
     "name": "stdout",
     "output_type": "stream",
     "text": [
      "0.0 1.0\n"
     ]
    },
    {
     "data": {
      "text/plain": [
       "[<matplotlib.lines.Line2D at 0x7f5ee76c05f8>]"
      ]
     },
     "execution_count": 84,
     "metadata": {},
     "output_type": "execute_result"
    },
    {
     "name": "stderr",
     "output_type": "stream",
     "text": [
      "/opt/conda/lib/python3.6/site-packages/matplotlib/font_manager.py:1297: UserWarning: findfont: Font family ['xkcd', 'Humor Sans', 'Comic Sans MS'] not found. Falling back to DejaVu Sans\n",
      "  (prop.get_family(), self.defaultFamily[fontext]))\n"
     ]
    },
    {
     "data": {
      "text/html": "<img src='pics_contrast/84.png' alt=''>",
      "text/plain": [
       "<matplotlib.figure.Figure at 0x7f5eec1552b0>"
      ]
     },
     "metadata": {},
     "output_type": "display_data"
    }
   ],
   "source": [
    "n = 1 # количество промежутков\n",
    "      # min: 1 промежуток (т.е. 2 точки [0,1])\n",
    "      # max: 255 промежутков (т.е 256 точек)\n",
    "\n",
    "c = 255/n\n",
    "d = 1/2*(1-c)\n",
    "\n",
    "# Тест\n",
    "a1 = 127/255*c + d\n",
    "a2 = 128/255*c + d\n",
    "print(a1, a2)\n",
    "assert a2+a1 == 1\n",
    "\n",
    "w = arange(12, 4, -1)\n",
    "c = amax(w)/w\n",
    "d = 1/2*(1-c)\n",
    "\n",
    "\n",
    "####################################################################\n",
    "xkcd()\n",
    "figure(figsize=(16,8))\n",
    "\n",
    "ax1 = subplot(121)\n",
    "xlabel('c')\n",
    "ylabel('w')\n",
    "xlim(amin(c), amax(c))\n",
    "ylim(amin(w), amax(w))\n",
    "ax1.xaxis.set_minor_locator(matplotlib.ticker.AutoMinorLocator(n=5))\n",
    "ax1.yaxis.set_minor_locator(matplotlib.ticker.AutoMinorLocator(n=5))\n",
    "grid(which='major', color='0.8', linewidth=0.5, linestyle='-')\n",
    "grid(which='minor', color='0.8', linewidth=0.5, linestyle='--')\n",
    "plot([amax(c), amin(c)], [amin(w), amax(w)], '0.95')\n",
    "plot(c, w)\n",
    "\n",
    "ax2 = subplot(122, sharey=ax1)\n",
    "xlabel('d')\n",
    "xlim(amin(d), amax(d))\n",
    "ylim(amin(w), amax(w))\n",
    "ax2.xaxis.set_minor_locator(matplotlib.ticker.AutoMinorLocator(n=5))\n",
    "ax2.yaxis.set_minor_locator(matplotlib.ticker.AutoMinorLocator(n=5))\n",
    "grid(which='major', color='0.8', linewidth=0.5, linestyle='-')\n",
    "grid(which='minor', color='0.8', linewidth=0.5, linestyle='--')\n",
    "plot([amin(d), amax(d)], [amin(w), amax(w)], '0.95')\n",
    "plot(d, w)"
   ]
  },
  {
   "cell_type": "code",
   "execution_count": null,
   "metadata": {},
   "outputs": [],
   "source": []
  }
 ],
 "metadata": {
  "kernelspec": {
   "display_name": "Python 3",
   "language": "python",
   "name": "python3"
  },
  "language_info": {
   "codemirror_mode": {
    "name": "ipython",
    "version": 3
   },
   "file_extension": ".py",
   "mimetype": "text/x-python",
   "name": "python",
   "nbconvert_exporter": "python",
   "pygments_lexer": "ipython3",
   "version": "3.6.2"
  }
 },
 "nbformat": 4,
 "nbformat_minor": 2
}
